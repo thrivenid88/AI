{
 "cells": [
  {
   "cell_type": "code",
   "execution_count": 2,
   "metadata": {},
   "outputs": [
    {
     "name": "stdout",
     "output_type": "stream",
     "text": [
      "Collecting chart_studio\n",
      "  Downloading chart_studio-1.1.0-py3-none-any.whl (64 kB)\n",
      "Requirement already satisfied: requests in c:\\users\\user\\anaconda3\\lib\\site-packages (from chart_studio) (2.28.2)\n",
      "Collecting plotly\n",
      "  Downloading plotly-5.18.0-py3-none-any.whl (15.6 MB)\n",
      "Requirement already satisfied: six in c:\\users\\user\\anaconda3\\lib\\site-packages (from chart_studio) (1.16.0)\n",
      "Collecting retrying>=1.3.3\n",
      "  Downloading retrying-1.3.4-py3-none-any.whl (11 kB)\n",
      "Requirement already satisfied: packaging in c:\\users\\user\\anaconda3\\lib\\site-packages (from plotly->chart_studio) (22.0)\n",
      "Collecting tenacity>=6.2.0\n",
      "  Downloading tenacity-8.2.3-py3-none-any.whl (24 kB)\n",
      "Requirement already satisfied: certifi>=2017.4.17 in c:\\users\\user\\anaconda3\\lib\\site-packages (from requests->chart_studio) (2021.10.8)\n",
      "Requirement already satisfied: urllib3<1.27,>=1.21.1 in c:\\users\\user\\anaconda3\\lib\\site-packages (from requests->chart_studio) (1.26.7)\n",
      "Requirement already satisfied: charset-normalizer<4,>=2 in c:\\users\\user\\anaconda3\\lib\\site-packages (from requests->chart_studio) (2.0.4)\n",
      "Requirement already satisfied: idna<4,>=2.5 in c:\\users\\user\\anaconda3\\lib\\site-packages (from requests->chart_studio) (3.2)\n",
      "Installing collected packages: tenacity, retrying, plotly, chart-studio\n",
      "Successfully installed chart-studio-1.1.0 plotly-5.18.0 retrying-1.3.4 tenacity-8.2.3\n"
     ]
    },
    {
     "name": "stderr",
     "output_type": "stream",
     "text": [
      "WARNING: Ignoring invalid distribution -illow (c:\\users\\user\\anaconda3\\lib\\site-packages)\n",
      "WARNING: Ignoring invalid distribution -illow (c:\\users\\user\\anaconda3\\lib\\site-packages)\n",
      "WARNING: Ignoring invalid distribution -illow (c:\\users\\user\\anaconda3\\lib\\site-packages)\n",
      "WARNING: Ignoring invalid distribution -illow (c:\\users\\user\\anaconda3\\lib\\site-packages)\n",
      "WARNING: Ignoring invalid distribution -illow (c:\\users\\user\\anaconda3\\lib\\site-packages)\n",
      "WARNING: Ignoring invalid distribution -illow (c:\\users\\user\\anaconda3\\lib\\site-packages)\n",
      "WARNING: Ignoring invalid distribution -illow (c:\\users\\user\\anaconda3\\lib\\site-packages)\n",
      "WARNING: Ignoring invalid distribution -illow (c:\\users\\user\\anaconda3\\lib\\site-packages)\n",
      "WARNING: Ignoring invalid distribution -illow (c:\\users\\user\\anaconda3\\lib\\site-packages)\n",
      "WARNING: Ignoring invalid distribution -illow (c:\\users\\user\\anaconda3\\lib\\site-packages)\n"
     ]
    }
   ],
   "source": [
    "!pip install chart_studio"
   ]
  },
  {
   "cell_type": "code",
   "execution_count": 13,
   "metadata": {},
   "outputs": [],
   "source": [
    "#import libraries\n",
    "import warnings\n",
    "warnings.filterwarnings(\"ignore\")\n",
    "import pandas as pd\n",
    "import numpy as np\n",
    "from sklearn.svm import SVC\n",
    "import matplotlib.pyplot as plt\n",
    "import chart_studio.plotly as py\n",
    "import plotly.graph_objs as go\n",
    "import scipy.stats\n",
    "from scipy.stats import ttest_ind,mannwhitneyu,wilcoxon\n",
    "import seaborn as sns\n",
    "sns.set(style=\"ticks\",color_codes=True)\n",
    "from sklearn.model_selection import train_test_split\n",
    "from sklearn import metrics\n",
    "from sklearn.metrics import classification_report,confusion_matrix"
   ]
  },
  {
   "cell_type": "code",
   "execution_count": 14,
   "metadata": {},
   "outputs": [
    {
     "name": "stdout",
     "output_type": "stream",
     "text": [
      "X variable\n",
      "\n",
      "    sepallength  sepalwidth  petallength  petalwidth\n",
      "0          5.1         3.5          1.4         0.2\n",
      "1          4.9         3.0          1.4         0.2\n",
      "2          4.7         3.2          1.3         0.2\n",
      "3          4.6         3.1          1.5         0.2\n",
      "4          5.0         3.6          1.4         0.2\n",
      "y variable\n",
      "\n",
      " 0    Iris-setosa\n",
      "1    Iris-setosa\n",
      "2    Iris-setosa\n",
      "3    Iris-setosa\n",
      "4    Iris-setosa\n",
      "Name: class, dtype: object\n",
      "\n",
      "\n"
     ]
    }
   ],
   "source": [
    "#load data set URL\n",
    "# url = \"https://archive.ics.uci.edu/ml/machine-learning-databases/iris/iris.data\"\n",
    "# names = ['sepal-length', 'sepal-width','petal-length', 'petal-width', 'class']\n",
    "data = pd.read_csv('iris_csv.csv')\n",
    "\n",
    "df = pd.DataFrame(data)\n",
    "\n",
    "X = df.drop('class',1)\n",
    "\n",
    "print('X variable\\n\\n',X.head())\n",
    "\n",
    "y = df['class']\n",
    "\n",
    "print('y variable\\n\\n',y.head())\n",
    "print('\\n')"
   ]
  },
  {
   "cell_type": "code",
   "execution_count": 15,
   "metadata": {},
   "outputs": [
    {
     "name": "stdout",
     "output_type": "stream",
     "text": [
      "Data visualization\n",
      "\n"
     ]
    }
   ],
   "source": [
    "#Pie chart\n",
    "print(\"Data visualization\\n\")\n",
    "def piechart(data):\n",
    "    df1 = data.sample(20)\n",
    "    explode=(0.2,0.1,0.1,0.3,0.2,0.2,0.2,0.1,0.3,0.2,0.2,0.1,0.1,0.3,0.2,0.2,0.2,0.1,0.3,0.2)\n",
    "    print(\"Pie chart comparison\\n\")\n",
    "    plt.pie(df1['sepal-length'], labels = df1['class'],explode = explode, startangle=45, autopct='%.1f%%')\n",
    "    plt.show()\n",
    "    print('\\n')\n",
    "    piechart(data)"
   ]
  },
  {
   "cell_type": "code",
   "execution_count": 18,
   "metadata": {},
   "outputs": [
    {
     "name": "stdout",
     "output_type": "stream",
     "text": [
      "Count plots\n"
     ]
    },
    {
     "data": {
      "image/png": "[encoded data removed]",
      "text/plain": [
       "<Figure size 432x288 with 1 Axes>"
      ]
     },
     "metadata": {},
     "output_type": "display_data"
    },
    {
     "name": "stdout",
     "output_type": "stream",
     "text": [
      "\n",
      "\n"
     ]
    },
    {
     "data": {
      "image/png": "[encoded data removed]",
      "text/plain": [
       "<Figure size 432x288 with 1 Axes>"
      ]
     },
     "metadata": {},
     "output_type": "display_data"
    },
    {
     "name": "stdout",
     "output_type": "stream",
     "text": [
      "\n",
      "\n"
     ]
    },
    {
     "data": {
      "image/png": "[encoded data removed]",
      "text/plain": [
       "<Figure size 432x288 with 1 Axes>"
      ]
     },
     "metadata": {},
     "output_type": "display_data"
    },
    {
     "name": "stdout",
     "output_type": "stream",
     "text": [
      "\n",
      "\n"
     ]
    },
    {
     "data": {
      "image/png": "[encoded data removed]",
      "text/plain": [
       "<Figure size 432x288 with 1 Axes>"
      ]
     },
     "metadata": {},
     "output_type": "display_data"
    },
    {
     "name": "stdout",
     "output_type": "stream",
     "text": [
      "\n",
      "\n"
     ]
    }
   ],
   "source": [
    "#Count plot\n",
    "print('Count plots')\n",
    "sns.countplot(x=df['sepallength'],data=df, palette='hls')\n",
    "plt.title('sepal-length count')\n",
    "plt.show()\n",
    "print('\\n')\n",
    "\n",
    "sns.countplot(x=df['sepalwidth'],data=df, palette='hls')\n",
    "plt.title('sepal-width count')\n",
    "plt.show()\n",
    "print('\\n')\n",
    "\n",
    "sns.countplot(x=df['petallength'],data=df, palette='hls')\n",
    "plt.title('petal-length count')\n",
    "plt.show()\n",
    "print('\\n')\n",
    "\n",
    "sns.countplot(x=df['petalwidth'],data=df, palette='hls')\n",
    "plt.title('petal-width count')\n",
    "plt.show()\n",
    "print('\\n')"
   ]
  },
  {
   "cell_type": "code",
   "execution_count": 19,
   "metadata": {},
   "outputs": [
    {
     "name": "stdout",
     "output_type": "stream",
     "text": [
      "\n",
      "\n",
      "Hypothesis Testing\n",
      "\n",
      "Mann-Whiteney Test results\n",
      "Statistics: 22497.5 \n",
      " p-value: 9.7973696154863e-51\n",
      "Different distribution (reject H0 and accepting H1)\n"
     ]
    }
   ],
   "source": [
    "#Hypothesis\n",
    "#Non parametric test(mann Whiteney test)\n",
    "print('\\n')\n",
    "print('Hypothesis Testing\\n')\n",
    "print('Mann-Whiteney Test results')\n",
    "data1 = df['sepallength']\n",
    "data2 = df['sepalwidth']\n",
    "stat, p = mannwhitneyu(data1, data2)\n",
    "print('Statistics:',stat,'\\n','p-value:',p)\n",
    "alpha = 0.05\n",
    "if p > alpha:\n",
    "    print('Same distribution (fail to reject H0)')\n",
    "else:\n",
    "    print('Different distribution (reject H0 and accepting H1)')"
   ]
  },
  {
   "cell_type": "code",
   "execution_count": 20,
   "metadata": {},
   "outputs": [
    {
     "name": "stdout",
     "output_type": "stream",
     "text": [
      "\n",
      "\n",
      "Wilcoxson Test Results\n",
      "Statistics: 0.0 \n",
      " p-value: 2.244265490032842e-26\n"
     ]
    }
   ],
   "source": [
    "#Wilcoxon test\n",
    "print('\\n')\n",
    "print('Wilcoxson Test Results')\n",
    "data1 = df['petallength']\n",
    "data2 = df['petalwidth']\n",
    "stat1, p1 = wilcoxon(data1, data2)\n",
    "print('Statistics:',stat1,'\\n','p-value:',p1)"
   ]
  },
  {
   "cell_type": "code",
   "execution_count": 21,
   "metadata": {},
   "outputs": [
    {
     "name": "stdout",
     "output_type": "stream",
     "text": [
      "Different distribution (reject H0 and accepting H1)\n"
     ]
    }
   ],
   "source": [
    "# interpret the results\n",
    "alpha = 0.05\n",
    "if p1 > alpha:\n",
    "    print('Same distribution (fail to reject H0)')\n",
    "else:\n",
    "    print('Different distribution (reject H0 and accepting H1)')\n"
   ]
  },
  {
   "cell_type": "code",
   "execution_count": 22,
   "metadata": {},
   "outputs": [
    {
     "name": "stdout",
     "output_type": "stream",
     "text": [
      "Support Vector Machine Results\n",
      "\n"
     ]
    }
   ],
   "source": [
    "#Split the data train and test\n",
    "print('Support Vector Machine Results\\n')\n",
    "X_train, X_test, y_train, y_test = train_test_split(X, y, test_size=0.3, random_state=0)"
   ]
  },
  {
   "cell_type": "code",
   "execution_count": 23,
   "metadata": {},
   "outputs": [
    {
     "name": "stdout",
     "output_type": "stream",
     "text": [
      "                 precision    recall  f1-score   support\n",
      "\n",
      "    Iris-setosa       1.00      1.00      1.00        16\n",
      "Iris-versicolor       1.00      0.94      0.97        18\n",
      " Iris-virginica       0.92      1.00      0.96        11\n",
      "\n",
      "       accuracy                           0.98        45\n",
      "      macro avg       0.97      0.98      0.98        45\n",
      "   weighted avg       0.98      0.98      0.98        45\n",
      "\n",
      "[[16  0  0]\n",
      " [ 0 17  1]\n",
      " [ 0  0 11]]\n",
      "\n",
      "\n",
      "Accuracy score: 0.98\n",
      "score of train data 0.98\n",
      "score of test data 0.98\n"
     ]
    }
   ],
   "source": [
    "#Support Vector machine classifier\n",
    "\n",
    "svclassifier = SVC(kernel='linear')\n",
    "\n",
    "#fit the model\n",
    "svclassifier.fit(X_train, y_train)\n",
    "\n",
    "#predict the test data\n",
    "y_pred = svclassifier.predict(X_test)\n",
    "\n",
    "#evaluating the algorithm\n",
    "\n",
    "print(classification_report(y_test, y_pred))\n",
    "print(confusion_matrix(y_test, y_pred))\n",
    "print('\\n')\n",
    "a = metrics.accuracy_score(y_test, y_pred)\n",
    "print('Accuracy score:',round(a,2))\n",
    "\n",
    "train = svclassifier.score(X_train, y_train)\n",
    "print('score of train data',round(train,2))\n",
    "\n",
    "test = svclassifier.score(X_test, y_test)\n",
    "print('score of test data',round(test,2))"
   ]
  },
  {
   "cell_type": "code",
   "execution_count": null,
   "metadata": {},
   "outputs": [],
   "source": []
  }
 ],
 "metadata": {
  "kernelspec": {
   "display_name": "Python 3 (ipykernel)",
   "language": "python",
   "name": "python3"
  },
  "language_info": {
   "codemirror_mode": {
    "name": "ipython",
    "version": 3
   },
   "file_extension": ".py",
   "mimetype": "text/x-python",
   "name": "python",
   "nbconvert_exporter": "python",
   "pygments_lexer": "ipython3",
   "version": "3.9.7"
  }
 },
 "nbformat": 4,
 "nbformat_minor": 2
}
