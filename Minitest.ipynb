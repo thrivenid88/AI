{
  "nbformat": 4,
  "nbformat_minor": 0,
  "metadata": {
    "colab": {
      "provenance": [],
      "mount_file_id": "14MuhP8QHKiROSvZK2OeKukHayCwBM8g7",
      "authorship_tag": "ABX9TyPpvfjhgyzQQi88ltSzP1v8",
      "include_colab_link": true
    },
    "kernelspec": {
      "name": "python3",
      "display_name": "Python 3"
    },
    "language_info": {
      "name": "python"
    }
  },
  "cells": [
    {
      "cell_type": "markdown",
      "metadata": {
        "id": "view-in-github",
        "colab_type": "text"
      },
      "source": [
        "<a href=\"https://colab.research.google.com/github/thrivenid88/AI/blob/main/Minitest.ipynb\" target=\"_parent\"><img src=\"https://colab.research.google.com/assets/colab-badge.svg\" alt=\"Open In Colab\"/></a>"
      ]
    },
    {
      "cell_type": "code",
      "execution_count": null,
      "metadata": {
        "id": "TMRFE9q4Zamj"
      },
      "outputs": [],
      "source": [
        "import numpy as np\n",
        "import pandas as pd\n",
        "import matplotlib.pyplot as plt\n",
        "import cv2\n",
        "import os\n",
        "from sklearn.model_selection import train_test_split\n",
        "import tensorflow as tf\n",
        "from tensorflow.keras.layers import Conv2D, MaxPooling2D, Dense, Flatten, Dropout\n",
        "from tensorflow.keras.models import Sequential\n",
        "from tensorflow.keras.preprocessing.image import ImageDataGenerator"
      ]
    },
    {
      "cell_type": "markdown",
      "source": [
        "/content/drive/MyDrive/Project Work/dataset images"
      ],
      "metadata": {
        "id": "KPZNF6Z9aPXE"
      }
    },
    {
      "cell_type": "code",
      "source": [
        "real_path = '/content/drive/MyDrive/Project Work/dataset images/Testing/original'\n",
        "forge_path = '/content/drive/MyDrive/Project Work/dataset images/Testing/Fraud'\n",
        "\n",
        "real_images = []\n",
        "for img_name in os.listdir(real_path):\n",
        "    img = cv2.imread(os.path.join(real_path, img_name), cv2.IMREAD_GRAYSCALE)\n",
        "    real_images.append(img)\n",
        "real_images = np.array(real_images, dtype=object)\n",
        "\n",
        "forge_images = []\n",
        "for img_name in os.listdir(forge_path):\n",
        "    img = cv2.imread(os.path.join(forge_path, img_name), cv2.IMREAD_GRAYSCALE)\n",
        "    forge_images.append(img)\n",
        "forge_images = np.array(forge_images, dtype=object)"
      ],
      "metadata": {
        "id": "gyRZj15UaEQ8"
      },
      "execution_count": null,
      "outputs": []
    },
    {
      "cell_type": "code",
      "source": [
        "real_labels = np.zeros(real_images.shape[0])\n",
        "forge_labels = np.ones(forge_images.shape[0])\n",
        "\n",
        "X = np.concatenate((real_images, forge_images), axis=0)\n",
        "y = np.concatenate((real_labels, forge_labels), axis=0)\n",
        "\n",
        "X_train, X_test, y_train, y_test = train_test_split(X, y, test_size=0.2, random_state=42)"
      ],
      "metadata": {
        "id": "3wXYr24saaPN"
      },
      "execution_count": null,
      "outputs": []
    },
    {
      "cell_type": "code",
      "source": [
        "import cv2\n",
        "import numpy as np\n",
        "\n",
        "# load the dataset\n",
        "real_path = '/content/drive/MyDrive/Project Work/dataset images/Testing/original'\n",
        "forge_path = '/content/drive/MyDrive/Project Work/dataset images/Testing/Fraud'\n",
        "\n",
        "# set the image size to 128x128\n",
        "img_size = (128, 128)\n",
        "\n",
        "real_images = []\n",
        "for img_name in os.listdir(real_path):\n",
        "    img = cv2.imread(os.path.join(real_path, img_name), cv2.IMREAD_GRAYSCALE)\n",
        "    img = cv2.resize(img, img_size)\n",
        "    real_images.append(img)\n",
        "real_images = np.array(real_images)\n",
        "\n",
        "forge_images = []\n",
        "for img_name in os.listdir(forge_path):\n",
        "    img = cv2.imread(os.path.join(forge_path, img_name), cv2.IMREAD_GRAYSCALE)\n",
        "    img = cv2.resize(img, img_size)\n",
        "    forge_images.append(img)\n",
        "forge_images = np.array(forge_images)\n",
        "\n",
        "# normalize the data\n",
        "real_images = real_images.astype('float32') / 255.0\n",
        "forge_images = forge_images.astype('float32') / 255.0"
      ],
      "metadata": {
        "id": "lGxGaQ5Pajc1"
      },
      "execution_count": null,
      "outputs": []
    },
    {
      "cell_type": "code",
      "source": [
        "import numpy as np\n",
        "\n",
        "num_real_images = len(real_images)\n",
        "num_forge_images = len(forge_images)\n",
        "\n",
        "# Create labels for the real and forged signatures\n",
        "real_labels = np.zeros(num_real_images, dtype=int)\n",
        "forge_labels = np.ones(num_forge_images, dtype=int)\n",
        "\n",
        "# Concatenate the real and forged images and labels\n",
        "X = np.concatenate((real_images, forge_images), axis=0)\n",
        "y = np.concatenate((real_labels, forge_labels), axis=0)"
      ],
      "metadata": {
        "id": "OJiAkLPIayQl"
      },
      "execution_count": null,
      "outputs": []
    },
    {
      "cell_type": "code",
      "source": [
        "import numpy as np\n",
        "\n",
        "# create dummy data\n",
        "X_train = np.random.rand(40, 128, 128)\n",
        "\n",
        "# add another dimension to the array\n",
        "X_train = np.expand_dims(X_train, axis=-1)\n",
        "\n",
        "# reshape the array\n",
        "X_train = X_train.reshape(X_train.shape[0], 128, 128, 1)\n",
        "\n",
        "print(X_train.shape)  # output: (40, 128, 128, 1)"
      ],
      "metadata": {
        "colab": {
          "base_uri": "https://localhost:8080/"
        },
        "id": "m2Icr9kWa1A8",
        "outputId": "31b5d58a-8937-490a-d21b-3c4f91af2a01"
      },
      "execution_count": null,
      "outputs": [
        {
          "output_type": "stream",
          "name": "stdout",
          "text": [
            "(40, 128, 128, 1)\n"
          ]
        }
      ]
    },
    {
      "cell_type": "code",
      "source": [
        "import numpy as np\n",
        "\n",
        "# create dummy data\n",
        "X_test = np.random.rand(40, 128, 128)\n",
        "\n",
        "# add another dimension to the array\n",
        "X_test = np.expand_dims(X_test, axis=-1)\n",
        "\n",
        "# reshape the array\n",
        "X_test = X_train.reshape(X_test.shape[0], 128, 128, 1)\n",
        "\n",
        "print(X_train.shape)  # output: (40, 128, 128, 1)"
      ],
      "metadata": {
        "colab": {
          "base_uri": "https://localhost:8080/"
        },
        "id": "FvsFr38Va4L0",
        "outputId": "6f9eb33a-ced3-4031-e28c-6f372a9dfbae"
      },
      "execution_count": null,
      "outputs": [
        {
          "output_type": "stream",
          "name": "stdout",
          "text": [
            "(40, 128, 128, 1)\n"
          ]
        }
      ]
    },
    {
      "cell_type": "code",
      "source": [
        "from tensorflow.keras.models import Sequential\n",
        "from tensorflow.keras.layers import Conv2D, MaxPooling2D, Flatten, Dense, Dropout\n",
        "\n",
        "# Create a Sequential model\n",
        "model = Sequential()\n",
        "\n",
        "# Add a convolutional layer\n",
        "model.add(Conv2D(filters=32, kernel_size=(3,3), activation='relu', input_shape=(128, 128, 1)))\n",
        "\n",
        "# Add a max pooling layer\n",
        "model.add(MaxPooling2D(pool_size=(2,2)))\n",
        "\n",
        "# Add another convolutional layer\n",
        "model.add(Conv2D(filters=64, kernel_size=(3,3), activation='relu'))\n",
        "\n",
        "# Add another max pooling layer\n",
        "model.add(MaxPooling2D(pool_size=(2,2)))\n",
        "\n",
        "# Flatten the output from the convolutional layers\n",
        "model.add(Flatten())\n",
        "\n",
        "# Add a fully connected layer with 128 neurons and a relu activation function\n",
        "model.add(Dense(units=128, activation='relu'))\n",
        "\n",
        "# Add a dropout layer to reduce overfitting\n",
        "model.add(Dropout(rate=0.5))\n",
        "\n",
        "# Add the output layer with a sigmoid activation function\n",
        "model.add(Dense(units=1, activation='sigmoid'))\n",
        "\n",
        "# Print a summary of the model architecture\n",
        "model.summary()"
      ],
      "metadata": {
        "colab": {
          "base_uri": "https://localhost:8080/"
        },
        "id": "Yzvqa8mPa7_l",
        "outputId": "ca66cb73-4201-404d-b6c4-11846f506c4e"
      },
      "execution_count": null,
      "outputs": [
        {
          "output_type": "stream",
          "name": "stdout",
          "text": [
            "Model: \"sequential\"\n",
            "_________________________________________________________________\n",
            " Layer (type)                Output Shape              Param #   \n",
            "=================================================================\n",
            " conv2d (Conv2D)             (None, 126, 126, 32)      320       \n",
            "                                                                 \n",
            " max_pooling2d (MaxPooling2  (None, 63, 63, 32)        0         \n",
            " D)                                                              \n",
            "                                                                 \n",
            " conv2d_1 (Conv2D)           (None, 61, 61, 64)        18496     \n",
            "                                                                 \n",
            " max_pooling2d_1 (MaxPoolin  (None, 30, 30, 64)        0         \n",
            " g2D)                                                            \n",
            "                                                                 \n",
            " flatten (Flatten)           (None, 57600)             0         \n",
            "                                                                 \n",
            " dense (Dense)               (None, 128)               7372928   \n",
            "                                                                 \n",
            " dropout (Dropout)           (None, 128)               0         \n",
            "                                                                 \n",
            " dense_1 (Dense)             (None, 1)                 129       \n",
            "                                                                 \n",
            "=================================================================\n",
            "Total params: 7391873 (28.20 MB)\n",
            "Trainable params: 7391873 (28.20 MB)\n",
            "Non-trainable params: 0 (0.00 Byte)\n",
            "_________________________________________________________________\n"
          ]
        }
      ]
    },
    {
      "cell_type": "code",
      "source": [
        "from sklearn.model_selection import train_test_split\n",
        "\n",
        "X_train, X_test, y_train, y_test = train_test_split(X, y, test_size=0.2, random_state=42)\n",
        "\n",
        "model.compile(optimizer='adam', loss='binary_crossentropy', metrics=['accuracy'])\n",
        "\n",
        "history = model.fit(X_train, y_train, batch_size=32, epochs=10, validation_data=(X_test, y_test))"
      ],
      "metadata": {
        "colab": {
          "base_uri": "https://localhost:8080/"
        },
        "id": "fXfC_BSCbDk8",
        "outputId": "182dca4c-c42d-4418-eebe-f8219098cb57"
      },
      "execution_count": null,
      "outputs": [
        {
          "output_type": "stream",
          "name": "stdout",
          "text": [
            "Epoch 1/10\n",
            "1/1 [==============================] - 2s 2s/step - loss: 0.7105 - accuracy: 0.3750 - val_loss: 1.6131 - val_accuracy: 0.5000\n",
            "Epoch 2/10\n",
            "1/1 [==============================] - 0s 281ms/step - loss: 2.6232 - accuracy: 0.3750 - val_loss: 2.6986 - val_accuracy: 0.5000\n",
            "Epoch 3/10\n",
            "1/1 [==============================] - 0s 266ms/step - loss: 2.7252 - accuracy: 0.5000 - val_loss: 1.4147 - val_accuracy: 0.5000\n",
            "Epoch 4/10\n",
            "1/1 [==============================] - 0s 259ms/step - loss: 1.0920 - accuracy: 0.6250 - val_loss: 0.7845 - val_accuracy: 0.5000\n",
            "Epoch 5/10\n",
            "1/1 [==============================] - 0s 267ms/step - loss: 0.7808 - accuracy: 0.6250 - val_loss: 1.4046 - val_accuracy: 0.5000\n",
            "Epoch 6/10\n",
            "1/1 [==============================] - 0s 272ms/step - loss: 1.6388 - accuracy: 0.5000 - val_loss: 1.1086 - val_accuracy: 0.5000\n",
            "Epoch 7/10\n",
            "1/1 [==============================] - 0s 329ms/step - loss: 1.0477 - accuracy: 0.5000 - val_loss: 0.8129 - val_accuracy: 0.5000\n",
            "Epoch 8/10\n",
            "1/1 [==============================] - 1s 614ms/step - loss: 1.2438 - accuracy: 0.5000 - val_loss: 0.7046 - val_accuracy: 0.5000\n",
            "Epoch 9/10\n",
            "1/1 [==============================] - 1s 1s/step - loss: 0.7434 - accuracy: 0.6250 - val_loss: 0.7014 - val_accuracy: 0.5000\n",
            "Epoch 10/10\n",
            "1/1 [==============================] - 1s 704ms/step - loss: 0.5948 - accuracy: 0.6250 - val_loss: 0.7301 - val_accuracy: 0.5000\n"
          ]
        }
      ]
    },
    {
      "cell_type": "code",
      "source": [
        "test_loss, test_acc = model.evaluate(X_test, y_test)\n",
        "print(\"Test accuracy:\", test_acc)\n",
        "print(\"Test loss:\", test_loss)"
      ],
      "metadata": {
        "colab": {
          "base_uri": "https://localhost:8080/"
        },
        "id": "DzTh__CMbIBj",
        "outputId": "ef82ec72-7c30-4dfc-ba75-247fe319939e"
      },
      "execution_count": null,
      "outputs": [
        {
          "output_type": "stream",
          "name": "stdout",
          "text": [
            "1/1 [==============================] - 0s 58ms/step - loss: 0.7301 - accuracy: 0.5000\n",
            "Test accuracy: 0.5\n",
            "Test loss: 0.7300562858581543\n"
          ]
        }
      ]
    },
    {
      "cell_type": "code",
      "source": [
        "# Load a signature image\n",
        "# You can change the image path and check if it is forged or real\n",
        "img = cv2.imread('/content/drive/MyDrive/Project Work/dataset images/Testing/Fraud/kad1fraud_1.jpg', cv2.IMREAD_GRAYSCALE)\n",
        "img = cv2.resize(img, (128, 128))\n",
        "img = np.array(img).reshape(1, 128, 128, 1) / 255.0\n",
        "\n",
        "# Predict the class of the signature image\n",
        "prediction = model.predict(img)\n",
        "print(prediction)\n",
        "\n",
        "if prediction < 0.5:\n",
        "    print(\"The signature is real.\")\n",
        "else:\n",
        "    print(\"The signature is forged.\")"
      ],
      "metadata": {
        "colab": {
          "base_uri": "https://localhost:8080/"
        },
        "id": "VCBt1W7obH7t",
        "outputId": "6145af2e-000b-473f-9c6a-98ef31dac183"
      },
      "execution_count": null,
      "outputs": [
        {
          "output_type": "stream",
          "name": "stdout",
          "text": [
            "1/1 [==============================] - 0s 28ms/step\n",
            "[[0.4077348]]\n",
            "The signature is real.\n"
          ]
        }
      ]
    }
  ]
}