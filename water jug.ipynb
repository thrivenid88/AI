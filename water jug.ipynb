{
 "cells": [
  {
   "cell_type": "code",
   "execution_count": 8,
   "id": "47b29dbf",
   "metadata": {
    "scrolled": true
   },
   "outputs": [
    {
     "name": "stdout",
     "output_type": "stream",
     "text": [
      "Steps: \n",
      "0 0\n",
      "4 0\n",
      "4 5\n",
      "0 5\n",
      "4 1\n",
      "0 1\n",
      "1 0\n",
      "1 5\n",
      "4 2\n",
      "0 2\n",
      "2 0\n",
      "2 5\n",
      "4 3\n"
     ]
    },
    {
     "data": {
      "text/plain": [
       "True"
      ]
     },
     "execution_count": 8,
     "metadata": {},
     "output_type": "execute_result"
    }
   ],
   "source": [
    "from collections import defaultdict\n",
    "jug1, jug2, aim = 4,5,3\n",
    "\n",
    "visited = defaultdict(lambda: False)\n",
    "def waterJugSolver(amt1, amt2):\n",
    "    if (amt1 == aim) or (amt2 == aim):\n",
    "        print(amt1, amt2)\n",
    "        return True\n",
    "    if visited[(amt1, amt2)] == False:\n",
    "        print(amt1, amt2)\n",
    "        visited[(amt1, amt2)] = True\n",
    "        return (waterJugSolver(0, amt2) or\n",
    "        waterJugSolver(amt1, 0) or\n",
    "        waterJugSolver(jug1, amt2) or\n",
    "        waterJugSolver(amt1, jug2) or\n",
    "        waterJugSolver(amt1 + min(amt2, (jug1-amt1)),\n",
    "        amt2 - min(amt2, (jug1-amt1))) or\n",
    "        waterJugSolver(amt1 - min(amt1, (jug2-amt2)),\n",
    "        amt2 + min(amt1, (jug2-amt2))))\n",
    "    else:\n",
    "        return False\n",
    "print(\"Steps: \")\n",
    "waterJugSolver(0, 0)"
   ]
  },
  {
   "cell_type": "code",
   "execution_count": null,
   "id": "2d84045e",
   "metadata": {},
   "outputs": [],
   "source": []
  },
  {
   "cell_type": "code",
   "execution_count": null,
   "id": "647dcbfc",
   "metadata": {},
   "outputs": [],
   "source": []
  }
 ],
 "metadata": {
  "kernelspec": {
   "display_name": "Python 3 (ipykernel)",
   "language": "python",
   "name": "python3"
  },
  "language_info": {
   "codemirror_mode": {
    "name": "ipython",
    "version": 3
   },
   "file_extension": ".py",
   "mimetype": "text/x-python",
   "name": "python",
   "nbconvert_exporter": "python",
   "pygments_lexer": "ipython3",
   "version": "3.9.7"
  }
 },
 "nbformat": 4,
 "nbformat_minor": 5
}
